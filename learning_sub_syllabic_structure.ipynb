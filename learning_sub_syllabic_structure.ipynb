{
 "cells": [
  {
   "cell_type": "markdown",
   "metadata": {
    "slideshow": {
     "slide_type": "slide"
    }
   },
   "source": [
    "# Learning form-meaning systematicity \n",
    "## By Sean Trott"
   ]
  },
  {
   "cell_type": "markdown",
   "metadata": {
    "slideshow": {
     "slide_type": "slide"
    }
   },
   "source": [
    "Is there learnable form-meaning systematicity at the sub-morphemic level, beyond what we'd expect by chance? And does it occur more in particular syllable components than others (e.g. *onsets* vs. *codas* vs. *nuclei*)?\n",
    "\n",
    "In this analysis, we ask whether a Linear SVM classifier can learn to predict a target label (e.g. a particular *onset*, such as **l**) from the word embedding of the word associated with that label. \n"
   ]
  },
  {
   "cell_type": "code",
   "execution_count": 8,
   "metadata": {
    "collapsed": true,
    "slideshow": {
     "slide_type": "skip"
    }
   },
   "outputs": [],
   "source": [
    "import os \n",
    "import gensim\n",
    "import numpy as np\n",
    "import pandas as pd\n",
    "import re\n",
    "\n",
    "# Variables\n",
    "MODEL_PATH = os.environ['WORD2VEC_PATH']\n",
    "ROOT_PATH = 'data/raw/roots_celex_monosyllabic.txt'\n",
    "\n",
    "LOAD_NEW_MODEL = False"
   ]
  },
  {
   "cell_type": "markdown",
   "metadata": {
    "slideshow": {
     "slide_type": "slide"
    }
   },
   "source": [
    "## Loading the data"
   ]
  },
  {
   "cell_type": "markdown",
   "metadata": {
    "slideshow": {
     "slide_type": "fragment"
    }
   },
   "source": [
    "First we load our data. We used only monosyllabic, monomorphemic words from the CELEX database. We also require that these words contain no capital letters, and are at least three characters."
   ]
  },
  {
   "cell_type": "code",
   "execution_count": 9,
   "metadata": {
    "collapsed": true,
    "slideshow": {
     "slide_type": "fragment"
    }
   },
   "outputs": [],
   "source": [
    "MIN_LENGTH = 1"
   ]
  },
  {
   "cell_type": "code",
   "execution_count": 10,
   "metadata": {
    "collapsed": true,
    "slideshow": {
     "slide_type": "fragment"
    }
   },
   "outputs": [],
   "source": [
    "def construct_syllable_structure(syllable, nuclei='[5@694{8312i7u$#eqFEIQVU$]|ju'):\n",
    "    \"\"\"Return dict of possible onset, nucleus, and coda, using phonetic transcription.\"\"\"\n",
    "    nucleus = re.findall(nuclei, syllable)\n",
    "    if len(nucleus) < 1:\n",
    "        return None\n",
    "    onset, coda = syllable.split(nucleus[0])\n",
    "    return {'nucleus': nucleus[0],\n",
    "            'onset': onset,\n",
    "            'coda': coda}"
   ]
  },
  {
   "cell_type": "code",
   "execution_count": 11,
   "metadata": {
    "slideshow": {
     "slide_type": "slide"
    }
   },
   "outputs": [
    {
     "data": {
      "text/plain": [
       "'a\\\\1\\\\1\\\\1'"
      ]
     },
     "execution_count": 11,
     "metadata": {},
     "output_type": "execute_result"
    }
   ],
   "source": [
    "entries = open(ROOT_PATH, \"r\").read().split(\"\\n\")\n",
    "entries[0]"
   ]
  },
  {
   "cell_type": "code",
   "execution_count": 12,
   "metadata": {
    "slideshow": {
     "slide_type": "fragment"
    }
   },
   "outputs": [
    {
     "data": {
      "text/plain": [
       "('a', '1')"
      ]
     },
     "execution_count": 12,
     "metadata": {},
     "output_type": "execute_result"
    }
   ],
   "source": [
    "words = [(entry.split(\"\\\\\")[0], entry.split(\"\\\\\")[-1]) for entry in entries if entry != \"\" and entry.islower()]\n",
    "words[0]"
   ]
  },
  {
   "cell_type": "code",
   "execution_count": 13,
   "metadata": {
    "slideshow": {
     "slide_type": "fragment"
    }
   },
   "outputs": [
    {
     "data": {
      "text/plain": [
       "('a', {'nucleus': '1', 'onset': '', 'coda': ''})"
      ]
     },
     "execution_count": 13,
     "metadata": {},
     "output_type": "execute_result"
    }
   ],
   "source": [
    "words = [(w[0], construct_syllable_structure(w[1])) for w in words if len(w[0]) >= MIN_LENGTH]\n",
    "words[0]"
   ]
  },
  {
   "cell_type": "code",
   "execution_count": 14,
   "metadata": {
    "slideshow": {
     "slide_type": "fragment"
    }
   },
   "outputs": [
    {
     "data": {
      "text/plain": [
       "{'nucleus': '1', 'onset': '', 'coda': 's'}"
      ]
     },
     "execution_count": 14,
     "metadata": {},
     "output_type": "execute_result"
    }
   ],
   "source": [
    "roots_to_syllables = dict(words)\n",
    "roots_to_syllables['ace']"
   ]
  },
  {
   "cell_type": "code",
   "execution_count": 15,
   "metadata": {
    "slideshow": {
     "slide_type": "fragment"
    }
   },
   "outputs": [
    {
     "name": "stdout",
     "output_type": "stream",
     "text": [
      "This resulted in an initial set of 2133 tokens.\n"
     ]
    }
   ],
   "source": [
    "N = len(roots_to_syllables)\n",
    "print(\"This resulted in an initial set of {num_tokens} tokens.\".format(num_tokens=N))"
   ]
  },
  {
   "cell_type": "markdown",
   "metadata": {
    "slideshow": {
     "slide_type": "skip"
    }
   },
   "source": [
    "## Loading the word2vec model and creating our dataset"
   ]
  },
  {
   "cell_type": "code",
   "execution_count": 16,
   "metadata": {
    "collapsed": true,
    "slideshow": {
     "slide_type": "skip"
    }
   },
   "outputs": [],
   "source": [
    "if LOAD_NEW_MODEL:\n",
    "    model = gensim.models.KeyedVectors.load_word2vec_format(MODEL_PATH, binary=True)"
   ]
  },
  {
   "cell_type": "code",
   "execution_count": 17,
   "metadata": {
    "collapsed": true,
    "slideshow": {
     "slide_type": "skip"
    }
   },
   "outputs": [],
   "source": [
    "def create_dataset(roots_to_syllables, model, syllable_component='nucleus'):\n",
    "    \"\"\"Return mappings from vectors to specified syllable component (e.g. 'nucleus').\"\"\"\n",
    "    X, y, words = [], [], []\n",
    "    for root, syllable in roots_to_syllables.items():\n",
    "        if root in model:\n",
    "            syl = syllable[syllable_component]\n",
    "            if syl != '':\n",
    "                X.append(model[root])\n",
    "                y.append(syl)\n",
    "                words.append(root)\n",
    "    return np.array(X), np.array(y), words"
   ]
  },
  {
   "cell_type": "markdown",
   "metadata": {
    "slideshow": {
     "slide_type": "skip"
    }
   },
   "source": [
    "### Saving data so we don't have to load word2vec each time"
   ]
  },
  {
   "cell_type": "code",
   "execution_count": 18,
   "metadata": {
    "collapsed": true,
    "slideshow": {
     "slide_type": "skip"
    }
   },
   "outputs": [],
   "source": [
    "import pickle\n",
    "if LOAD_NEW_MODEL:\n",
    "    X_onset, y_onset, words_onset = create_dataset(roots_to_syllables, model, 'onset')\n",
    "    X_coda, y_coda, words_coda = create_dataset(roots_to_syllables, model, 'coda')\n",
    "    X_nucleus, y_nucleus, words_nucleus = create_dataset(roots_to_syllables, model, 'nucleus')\n",
    "    data = {'onset': {'X': X_onset, 'y': y_onset, 'words': words_onset},\n",
    "            'coda': {'X': X_coda, 'y': y_coda, 'words': words_coda},\n",
    "            'nucleus': {'X': X_nucleus, 'y': y_nucleus, 'words': words_nucleus}}\n",
    "    with open('data/processed/data.pkl', 'wb') as filepath:\n",
    "        pickle.dump(data, filepath)\n",
    "else:\n",
    "    with open('data/processed/data.pkl', 'rb') as filepath:\n",
    "        data = pickle.load(filepath)"
   ]
  },
  {
   "cell_type": "markdown",
   "metadata": {
    "slideshow": {
     "slide_type": "skip"
    }
   },
   "source": [
    "## Training and testing our classifier"
   ]
  },
  {
   "cell_type": "code",
   "execution_count": 19,
   "metadata": {
    "collapsed": true,
    "slideshow": {
     "slide_type": "skip"
    }
   },
   "outputs": [],
   "source": [
    "from sklearn import metrics\n",
    "from sklearn.decomposition import PCA\n",
    "from sklearn.model_selection import train_test_split\n",
    "from sklearn.svm import LinearSVC"
   ]
  },
  {
   "cell_type": "markdown",
   "metadata": {
    "slideshow": {
     "slide_type": "skip"
    }
   },
   "source": [
    "### Helper functions"
   ]
  },
  {
   "cell_type": "code",
   "execution_count": 40,
   "metadata": {
    "collapsed": true,
    "slideshow": {
     "slide_type": "skip"
    }
   },
   "outputs": [],
   "source": [
    "NUM_PERMUTATIONS = 100\n",
    "\n",
    "def get_model_metrics(y_true, y_pred):\n",
    "    \"\"\"Return a dictionary of relevant model metrics.\n",
    "\n",
    "    Parameters\n",
    "    ----------\n",
    "    y_true: numpy.array\n",
    "      array of actual y values\n",
    "    y_pred: numpy.array\n",
    "      array of predicted y values\n",
    "\n",
    "    Returns\n",
    "    -------\n",
    "    dict\n",
    "      dictionary including F1 score, precision, recall\n",
    "    \"\"\"\n",
    "    return {'f1': metrics.f1_score(y_true=y_true, y_pred=y_pred, average='weighted'),\n",
    "            'recall': metrics.recall_score(y_true=y_true, y_pred=y_pred, average='weighted'),\n",
    "            'precision': metrics.precision_score(y_true=y_true, y_pred=y_pred, average='weighted'),\n",
    "            'accuracy': metrics.accuracy_score(y_true=y_true, y_pred=y_pred)}\n",
    "\n",
    "def evaluate_classifier(X, y, clf, shuffled=False):\n",
    "    \"\"\"Run cross-validation with parameters.\"\"\"\n",
    "    model_performance = []\n",
    "    X_train, X_test, y_train, y_test = train_test_split(\n",
    "        X, y, test_size=0.33, random_state=42)\n",
    "    \n",
    "    # Fit model\n",
    "    clf.fit(X_train, y_train)\n",
    "    # Make model predictions\n",
    "    y_pred_train = clf.predict(X=X_train)\n",
    "    y_pred_test = clf.predict(X=X_test)\n",
    "    # Evaluate model\n",
    "    training_metrics = get_model_metrics(y_train, y_pred_train)\n",
    "    validation_metrics = get_model_metrics(y_test, y_pred_test)\n",
    "    model_performance.append({\n",
    "        'recall_train': training_metrics['recall'],\n",
    "        'recall_valid': validation_metrics['recall'],\n",
    "        'precision_train': training_metrics['precision'],\n",
    "        'precision_valid': validation_metrics['precision'],\n",
    "        'f1_train': training_metrics['f1'],\n",
    "        'f1_valid': validation_metrics['f1'],\n",
    "        'accuracy_train': training_metrics['accuracy'],\n",
    "        'accuracy_valid': validation_metrics['accuracy'],\n",
    "        'shuffled': shuffled\n",
    "    })\n",
    "    df_model_performance = pd.DataFrame.from_dict(model_performance)\n",
    "    return df_model_performance \n",
    "\n",
    "def permutation_test(X, y, clf, n=100):\n",
    "    \"\"\"Get estimate of model accuracy on randomly shuffled data.\"\"\"\n",
    "    performances = []\n",
    "    for shuffle in range(n):\n",
    "        if shuffle % 10 == 0:\n",
    "            print(\"{pct}% done...\".format(pct=round(shuffle/n, 2)*100))\n",
    "        y_shuffle = np.random.permutation(y)\n",
    "        df_performance = evaluate_classifier(\n",
    "            X, y_shuffle, clf=clf, shuffled=True)\n",
    "        performances.append(df_performance)\n",
    "    shuffle_performance = pd.concat(performances)\n",
    "    return shuffle_performance"
   ]
  },
  {
   "cell_type": "markdown",
   "metadata": {
    "slideshow": {
     "slide_type": "slide"
    }
   },
   "source": [
    "### Training and evaluation for each syllable component"
   ]
  },
  {
   "cell_type": "markdown",
   "metadata": {
    "slideshow": {
     "slide_type": "fragment"
    }
   },
   "source": [
    "For each syllable component, we want to know whether a classifier can learn to predict **phonetic form** from **word embeddings**. We will evaluate our classifier using two-fold cross-validation, and extract the F1-scores on the validation sets. \n",
    "\n",
    "We will then compare these to the F1-scores on the validation sets for randomly shuffled labels, as an estimate of the *null distribution*.\n",
    "\n",
    "To speed things up, we will reduce the dimensionality of the word vectors."
   ]
  },
  {
   "cell_type": "markdown",
   "metadata": {
    "slideshow": {
     "slide_type": "slide"
    }
   },
   "source": [
    "#### Onsets"
   ]
  },
  {
   "cell_type": "code",
   "execution_count": 41,
   "metadata": {
    "collapsed": true,
    "slideshow": {
     "slide_type": "fragment"
    }
   },
   "outputs": [
    {
     "data": {
      "text/plain": [
       "1979"
      ]
     },
     "execution_count": 41,
     "metadata": {},
     "output_type": "execute_result"
    }
   ],
   "source": [
    "critical_data = data['onset']\n",
    "X, y = critical_data['X'], critical_data['y']\n",
    "len(X)"
   ]
  },
  {
   "cell_type": "code",
   "execution_count": 42,
   "metadata": {
    "slideshow": {
     "slide_type": "fragment"
    }
   },
   "outputs": [
    {
     "name": "stderr",
     "output_type": "stream",
     "text": [
      "/Users/strott/anaconda3/lib/python3.6/site-packages/sklearn/metrics/classification.py:1135: UndefinedMetricWarning: F-score is ill-defined and being set to 0.0 in labels with no predicted samples.\n",
      "  'precision', 'predicted', average, warn_for)\n",
      "/Users/strott/anaconda3/lib/python3.6/site-packages/sklearn/metrics/classification.py:1135: UndefinedMetricWarning: Precision is ill-defined and being set to 0.0 in labels with no predicted samples.\n",
      "  'precision', 'predicted', average, warn_for)\n"
     ]
    }
   ],
   "source": [
    "clf = LinearSVC()\n",
    "df_performance = evaluate_classifier(\n",
    "    X, y, clf=clf, shuffled=False)"
   ]
  },
  {
   "cell_type": "code",
   "execution_count": 43,
   "metadata": {},
   "outputs": [
    {
     "name": "stdout",
     "output_type": "stream",
     "text": [
      "0.0% done...\n"
     ]
    },
    {
     "name": "stderr",
     "output_type": "stream",
     "text": [
      "/Users/strott/anaconda3/lib/python3.6/site-packages/sklearn/metrics/classification.py:1135: UndefinedMetricWarning: F-score is ill-defined and being set to 0.0 in labels with no predicted samples.\n",
      "  'precision', 'predicted', average, warn_for)\n",
      "/Users/strott/anaconda3/lib/python3.6/site-packages/sklearn/metrics/classification.py:1135: UndefinedMetricWarning: Precision is ill-defined and being set to 0.0 in labels with no predicted samples.\n",
      "  'precision', 'predicted', average, warn_for)\n",
      "/Users/strott/anaconda3/lib/python3.6/site-packages/sklearn/metrics/classification.py:1137: UndefinedMetricWarning: F-score is ill-defined and being set to 0.0 in labels with no true samples.\n",
      "  'recall', 'true', average, warn_for)\n",
      "/Users/strott/anaconda3/lib/python3.6/site-packages/sklearn/metrics/classification.py:1137: UndefinedMetricWarning: Recall is ill-defined and being set to 0.0 in labels with no true samples.\n",
      "  'recall', 'true', average, warn_for)\n"
     ]
    },
    {
     "name": "stdout",
     "output_type": "stream",
     "text": [
      "10.0% done...\n",
      "20.0% done...\n",
      "30.0% done...\n",
      "40.0% done...\n",
      "50.0% done...\n",
      "60.0% done...\n",
      "70.0% done...\n",
      "80.0% done...\n",
      "90.0% done...\n"
     ]
    }
   ],
   "source": [
    "\n",
    "permuted = permutation_test(X, y, clf, NUM_PERMUTATIONS)\n",
    "df_onsets = pd.concat([df_performance, permuted])"
   ]
  },
  {
   "cell_type": "markdown",
   "metadata": {
    "slideshow": {
     "slide_type": "skip"
    }
   },
   "source": [
    "#### Nuclei"
   ]
  },
  {
   "cell_type": "code",
   "execution_count": 54,
   "metadata": {
    "slideshow": {
     "slide_type": "skip"
    }
   },
   "outputs": [
    {
     "data": {
      "text/plain": [
       "2082"
      ]
     },
     "execution_count": 54,
     "metadata": {},
     "output_type": "execute_result"
    }
   ],
   "source": [
    "critical_data = data['nucleus']\n",
    "X, y = critical_data['X'], critical_data['y']\n",
    "len(X)"
   ]
  },
  {
   "cell_type": "code",
   "execution_count": 58,
   "metadata": {
    "slideshow": {
     "slide_type": "skip"
    }
   },
   "outputs": [
    {
     "name": "stderr",
     "output_type": "stream",
     "text": [
      "/Users/strott/anaconda3/lib/python3.6/site-packages/sklearn/metrics/classification.py:1135: UndefinedMetricWarning: F-score is ill-defined and being set to 0.0 in labels with no predicted samples.\n",
      "  'precision', 'predicted', average, warn_for)\n",
      "/Users/strott/anaconda3/lib/python3.6/site-packages/sklearn/metrics/classification.py:1135: UndefinedMetricWarning: Precision is ill-defined and being set to 0.0 in labels with no predicted samples.\n",
      "  'precision', 'predicted', average, warn_for)\n"
     ]
    },
    {
     "name": "stdout",
     "output_type": "stream",
     "text": [
      "0.0% done...\n",
      "10.0% done...\n"
     ]
    },
    {
     "name": "stderr",
     "output_type": "stream",
     "text": [
      "/Users/strott/anaconda3/lib/python3.6/site-packages/sklearn/metrics/classification.py:1137: UndefinedMetricWarning: F-score is ill-defined and being set to 0.0 in labels with no true samples.\n",
      "  'recall', 'true', average, warn_for)\n",
      "/Users/strott/anaconda3/lib/python3.6/site-packages/sklearn/metrics/classification.py:1137: UndefinedMetricWarning: Recall is ill-defined and being set to 0.0 in labels with no true samples.\n",
      "  'recall', 'true', average, warn_for)\n"
     ]
    },
    {
     "name": "stdout",
     "output_type": "stream",
     "text": [
      "20.0% done...\n",
      "30.0% done...\n",
      "40.0% done...\n",
      "50.0% done...\n",
      "60.0% done...\n",
      "70.0% done...\n",
      "80.0% done...\n",
      "90.0% done...\n"
     ]
    }
   ],
   "source": [
    "clf = LinearSVC()\n",
    "df_performance = evaluate_classifier(\n",
    "    X, y, clf=clf, shuffled=False)\n",
    "permuted = permutation_test(X, y, clf, NUM_PERMUTATIONS)\n",
    "df_nucleus = pd.concat([df_performance, permuted])"
   ]
  },
  {
   "cell_type": "markdown",
   "metadata": {
    "slideshow": {
     "slide_type": "skip"
    }
   },
   "source": [
    "#### Coda"
   ]
  },
  {
   "cell_type": "code",
   "execution_count": 59,
   "metadata": {
    "slideshow": {
     "slide_type": "skip"
    }
   },
   "outputs": [
    {
     "data": {
      "text/plain": [
       "1801"
      ]
     },
     "execution_count": 59,
     "metadata": {},
     "output_type": "execute_result"
    }
   ],
   "source": [
    "critical_data = data['coda']\n",
    "X, y = critical_data['X'], critical_data['y']\n",
    "len(X)"
   ]
  },
  {
   "cell_type": "code",
   "execution_count": 60,
   "metadata": {
    "slideshow": {
     "slide_type": "skip"
    }
   },
   "outputs": [
    {
     "name": "stderr",
     "output_type": "stream",
     "text": [
      "/Users/strott/anaconda3/lib/python3.6/site-packages/sklearn/metrics/classification.py:1135: UndefinedMetricWarning: F-score is ill-defined and being set to 0.0 in labels with no predicted samples.\n",
      "  'precision', 'predicted', average, warn_for)\n",
      "/Users/strott/anaconda3/lib/python3.6/site-packages/sklearn/metrics/classification.py:1137: UndefinedMetricWarning: F-score is ill-defined and being set to 0.0 in labels with no true samples.\n",
      "  'recall', 'true', average, warn_for)\n",
      "/Users/strott/anaconda3/lib/python3.6/site-packages/sklearn/metrics/classification.py:1137: UndefinedMetricWarning: Recall is ill-defined and being set to 0.0 in labels with no true samples.\n",
      "  'recall', 'true', average, warn_for)\n",
      "/Users/strott/anaconda3/lib/python3.6/site-packages/sklearn/metrics/classification.py:1135: UndefinedMetricWarning: Precision is ill-defined and being set to 0.0 in labels with no predicted samples.\n",
      "  'precision', 'predicted', average, warn_for)\n"
     ]
    },
    {
     "name": "stdout",
     "output_type": "stream",
     "text": [
      "0.0% done...\n",
      "10.0% done...\n",
      "20.0% done...\n",
      "30.0% done...\n",
      "40.0% done...\n",
      "50.0% done...\n",
      "60.0% done...\n",
      "70.0% done...\n",
      "80.0% done...\n",
      "90.0% done...\n"
     ]
    }
   ],
   "source": [
    "clf = LinearSVC()\n",
    "df_performance = evaluate_classifier(\n",
    "    X, y, clf=clf, shuffled=False)\n",
    "permuted = permutation_test(X, y, clf, NUM_PERMUTATIONS)\n",
    "df_coda = pd.concat([df_performance, permuted])"
   ]
  },
  {
   "cell_type": "markdown",
   "metadata": {
    "slideshow": {
     "slide_type": "slide"
    }
   },
   "source": [
    "## Evaluation of systematicity for each syllable component"
   ]
  },
  {
   "cell_type": "code",
   "execution_count": 61,
   "metadata": {
    "collapsed": true,
    "slideshow": {
     "slide_type": "skip"
    }
   },
   "outputs": [],
   "source": [
    "import matplotlib.pyplot as plt"
   ]
  },
  {
   "cell_type": "markdown",
   "metadata": {
    "slideshow": {
     "slide_type": "slide"
    }
   },
   "source": [
    "### Onsets"
   ]
  },
  {
   "cell_type": "code",
   "execution_count": 62,
   "metadata": {},
   "outputs": [
    {
     "name": "stdout",
     "output_type": "stream",
     "text": [
      "Predicting 48 onsets total\n"
     ]
    }
   ],
   "source": [
    "print(\"Predicting {num_classes} onsets total\".format(num_classes=len(set(data['onset']['y']))))"
   ]
  },
  {
   "cell_type": "code",
   "execution_count": 63,
   "metadata": {
    "slideshow": {
     "slide_type": "skip"
    }
   },
   "outputs": [
    {
     "name": "stdout",
     "output_type": "stream",
     "text": [
      "The mean F1 score for the true distribution is 0.079.\n"
     ]
    }
   ],
   "source": [
    "mean_f1_valid = df_onsets[df_onsets['shuffled']==False]['f1_valid'].mean()\n",
    "print(\"The mean F1 score for the true distribution is {f1}.\".format(f1=round(mean_f1_valid, 3)))"
   ]
  },
  {
   "cell_type": "markdown",
   "metadata": {
    "slideshow": {
     "slide_type": "skip"
    }
   },
   "source": [
    "Below, we see that the mean F1 score for the true distribution (dotted line) is higher than the majority of the F1 scores for the randomly permuted distributions."
   ]
  },
  {
   "cell_type": "code",
   "execution_count": 64,
   "metadata": {
    "scrolled": true,
    "slideshow": {
     "slide_type": "fragment"
    }
   },
   "outputs": [
    {
     "data": {
      "image/png": "[encoded data removed]",
      "text/plain": [
       "<Figure size 432x288 with 1 Axes>"
      ]
     },
     "metadata": {},
     "output_type": "display_data"
    }
   ],
   "source": [
    "df_onsets[df_onsets['shuffled']==True].hist(column='f1_valid')\n",
    "plt.axvline(x=mean_f1_valid, linestyle=\"dotted\")\n",
    "plt.title(\"Distribution of F1 scores\")\n",
    "plt.xlabel(\"F1 scores\")\n",
    "plt.ylabel(\"Count\")\n",
    "plt.show()"
   ]
  },
  {
   "cell_type": "code",
   "execution_count": 65,
   "metadata": {
    "slideshow": {
     "slide_type": "fragment"
    }
   },
   "outputs": [
    {
     "data": {
      "text/plain": [
       "0.0"
      ]
     },
     "execution_count": 65,
     "metadata": {},
     "output_type": "execute_result"
    }
   ],
   "source": [
    "shuffled = df_onsets[df_onsets['shuffled']==True]\n",
    "p_val_onset = len(shuffled[shuffled['f1_valid'] > mean_f1_valid]) / len(shuffled)\n",
    "p_val_onset"
   ]
  },
  {
   "cell_type": "markdown",
   "metadata": {
    "slideshow": {
     "slide_type": "slide"
    }
   },
   "source": [
    "### Nuclei"
   ]
  },
  {
   "cell_type": "code",
   "execution_count": 66,
   "metadata": {},
   "outputs": [
    {
     "name": "stdout",
     "output_type": "stream",
     "text": [
      "Predicting 16 onsets total\n"
     ]
    }
   ],
   "source": [
    "print(\"Predicting {num_classes} onsets total\".format(num_classes=len(set(data['nucleus']['y']))))"
   ]
  },
  {
   "cell_type": "code",
   "execution_count": 67,
   "metadata": {
    "slideshow": {
     "slide_type": "skip"
    }
   },
   "outputs": [
    {
     "name": "stdout",
     "output_type": "stream",
     "text": [
      "The mean F1 score for the true distribution is 0.134.\n"
     ]
    }
   ],
   "source": [
    "mean_f1_valid = df_nucleus[df_nucleus['shuffled']==False]['f1_valid'].mean()\n",
    "print(\"The mean F1 score for the true distribution is {f1}.\".format(f1=round(mean_f1_valid, 3)))"
   ]
  },
  {
   "cell_type": "markdown",
   "metadata": {
    "slideshow": {
     "slide_type": "skip"
    }
   },
   "source": [
    "Below, we see that the mean F1 score for the true distribution (dotted line) is higher than the majority of the F1 scores for the randomly permuted distributions."
   ]
  },
  {
   "cell_type": "code",
   "execution_count": 68,
   "metadata": {
    "scrolled": true,
    "slideshow": {
     "slide_type": "fragment"
    }
   },
   "outputs": [
    {
     "data": {
      "image/png": "[encoded data removed]",
      "text/plain": [
       "<Figure size 432x288 with 1 Axes>"
      ]
     },
     "metadata": {},
     "output_type": "display_data"
    }
   ],
   "source": [
    "df_nucleus[df_nucleus['shuffled']==True].hist(column='f1_valid')\n",
    "plt.axvline(x=mean_f1_valid, linestyle=\"dotted\")\n",
    "plt.title(\"Distribution of F1 scores\")\n",
    "plt.xlabel(\"F1 scores\")\n",
    "plt.ylabel(\"Count\")\n",
    "plt.show()"
   ]
  },
  {
   "cell_type": "code",
   "execution_count": 69,
   "metadata": {
    "slideshow": {
     "slide_type": "fragment"
    }
   },
   "outputs": [
    {
     "data": {
      "text/plain": [
       "0.0"
      ]
     },
     "execution_count": 69,
     "metadata": {},
     "output_type": "execute_result"
    }
   ],
   "source": [
    "shuffled = df_nucleus[df_nucleus['shuffled']==True]\n",
    "p_val_nucleus = len(shuffled[shuffled['f1_valid'] > mean_f1_valid]) / len(shuffled)\n",
    "p_val_nucleus"
   ]
  },
  {
   "cell_type": "markdown",
   "metadata": {
    "slideshow": {
     "slide_type": "slide"
    }
   },
   "source": [
    "### Coda"
   ]
  },
  {
   "cell_type": "code",
   "execution_count": 70,
   "metadata": {},
   "outputs": [
    {
     "name": "stdout",
     "output_type": "stream",
     "text": [
      "Predicting 54 onsets total\n"
     ]
    }
   ],
   "source": [
    "print(\"Predicting {num_classes} onsets total\".format(num_classes=len(set(data['coda']['y']))))"
   ]
  },
  {
   "cell_type": "code",
   "execution_count": 71,
   "metadata": {
    "slideshow": {
     "slide_type": "skip"
    }
   },
   "outputs": [
    {
     "name": "stdout",
     "output_type": "stream",
     "text": [
      "The mean F1 score for the true distribution is 0.098.\n"
     ]
    }
   ],
   "source": [
    "mean_f1_valid = df_coda[df_coda['shuffled']==False]['f1_valid'].mean()\n",
    "print(\"The mean F1 score for the true distribution is {f1}.\".format(f1=round(mean_f1_valid, 3)))"
   ]
  },
  {
   "cell_type": "markdown",
   "metadata": {
    "slideshow": {
     "slide_type": "skip"
    }
   },
   "source": [
    "Below, we see that the mean F1 score for the true distribution (dotted line) is higher than the majority of the F1 scores for the randomly permuted distributions."
   ]
  },
  {
   "cell_type": "code",
   "execution_count": 72,
   "metadata": {
    "scrolled": true,
    "slideshow": {
     "slide_type": "fragment"
    }
   },
   "outputs": [
    {
     "data": {
      "image/png": "[encoded data removed]",
      "text/plain": [
       "<Figure size 432x288 with 1 Axes>"
      ]
     },
     "metadata": {},
     "output_type": "display_data"
    }
   ],
   "source": [
    "df_coda[df_coda['shuffled']==True].hist(column='f1_valid')\n",
    "plt.axvline(x=mean_f1_valid, linestyle=\"dotted\")\n",
    "plt.title(\"Distribution of F1 scores\")\n",
    "plt.xlabel(\"F1 scores\")\n",
    "plt.ylabel(\"Count\")\n",
    "plt.show()"
   ]
  },
  {
   "cell_type": "code",
   "execution_count": 73,
   "metadata": {
    "slideshow": {
     "slide_type": "skip"
    }
   },
   "outputs": [
    {
     "data": {
      "text/plain": [
       "0.0"
      ]
     },
     "execution_count": 73,
     "metadata": {},
     "output_type": "execute_result"
    }
   ],
   "source": [
    "shuffled = df_coda[df_coda['shuffled']==True]\n",
    "p_val_coda = len(shuffled[shuffled['f1_valid'] > mean_f1_valid]) / len(shuffled)\n",
    "p_val_coda"
   ]
  },
  {
   "cell_type": "code",
   "execution_count": null,
   "metadata": {
    "collapsed": true
   },
   "outputs": [],
   "source": []
  },
  {
   "cell_type": "code",
   "execution_count": null,
   "metadata": {
    "collapsed": true
   },
   "outputs": [],
   "source": []
  }
 ],
 "metadata": {
  "anaconda-cloud": {},
  "kernelspec": {
   "display_name": "Python 3",
   "language": "python",
   "name": "python3"
  },
  "language_info": {
   "codemirror_mode": {
    "name": "ipython",
    "version": 3
   },
   "file_extension": ".py",
   "mimetype": "text/x-python",
   "name": "python",
   "nbconvert_exporter": "python",
   "pygments_lexer": "ipython3",
   "version": "3.6.5"
  }
 },
 "nbformat": 4,
 "nbformat_minor": 2
}
