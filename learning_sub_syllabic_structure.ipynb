{
 "cells": [
  {
   "cell_type": "markdown",
   "metadata": {},
   "source": [
    "# Learning form-meaning systematicity "
   ]
  },
  {
   "cell_type": "markdown",
   "metadata": {},
   "source": [
    "## Sean Trott"
   ]
  },
  {
   "cell_type": "markdown",
   "metadata": {},
   "source": [
    "Is there learnable form-meaning systematicity at the sub-morphemic level, beyond what we'd expect by chance? And does it occur more in particular syllable components than others (e.g. *onsets* vs. *codas* vs. *nuclei*)?\n",
    "\n",
    "In this analysis, we ask whether a Linear SVM classifier can learn to predict a target label (e.g. a particular *onset*, such as **l**) from the word embedding of the word associated with that label. \n"
   ]
  },
  {
   "cell_type": "code",
   "execution_count": 1,
   "metadata": {},
   "outputs": [],
   "source": [
    "import os \n",
    "import gensim\n",
    "import numpy as np\n",
    "import pandas as pd\n",
    "import re\n",
    "\n",
    "# Variables\n",
    "MODEL_PATH = os.environ['WORD2VEC_PATH']\n",
    "ROOT_PATH = 'data/raw/roots_celex_monosyllabic.txt'\n",
    "\n",
    "LOAD_NEW_MODEL = False"
   ]
  },
  {
   "cell_type": "markdown",
   "metadata": {},
   "source": [
    "## Loading the data"
   ]
  },
  {
   "cell_type": "markdown",
   "metadata": {},
   "source": [
    "First we load our data. We used only monosyllabic, monomorphemic words from the CELEX database. We also require that these words contain no capital letters, and are at least three characters."
   ]
  },
  {
   "cell_type": "code",
   "execution_count": 2,
   "metadata": {},
   "outputs": [],
   "source": [
    "MIN_LENGTH = 3"
   ]
  },
  {
   "cell_type": "code",
   "execution_count": 3,
   "metadata": {},
   "outputs": [],
   "source": [
    "def construct_syllable_structure(syllable, nuclei='[5@694{8312i7u$#eqFEIQVU$]|ju'):\n",
    "    \"\"\"Return dict of possible onset, nucleus, and coda, using phonetic transcription.\"\"\"\n",
    "    nucleus = re.findall(nuclei, syllable)\n",
    "    if len(nucleus) < 1:\n",
    "        return None\n",
    "    onset, coda = syllable.split(nucleus[0])\n",
    "    return {'nucleus': nucleus[0],\n",
    "            'onset': onset,\n",
    "            'coda': coda}"
   ]
  },
  {
   "cell_type": "code",
   "execution_count": 4,
   "metadata": {},
   "outputs": [
    {
     "data": {
      "text/plain": [
       "'a\\\\1\\\\1\\\\1'"
      ]
     },
     "execution_count": 4,
     "metadata": {},
     "output_type": "execute_result"
    }
   ],
   "source": [
    "entries = open(ROOT_PATH, \"r\").read().split(\"\\n\")\n",
    "entries[0]"
   ]
  },
  {
   "cell_type": "code",
   "execution_count": 5,
   "metadata": {},
   "outputs": [
    {
     "data": {
      "text/plain": [
       "('a', '1')"
      ]
     },
     "execution_count": 5,
     "metadata": {},
     "output_type": "execute_result"
    }
   ],
   "source": [
    "words = [(entry.split(\"\\\\\")[0], entry.split(\"\\\\\")[-1]) for entry in entries if entry != \"\" and entry.islower()]\n",
    "words[0]"
   ]
  },
  {
   "cell_type": "code",
   "execution_count": 6,
   "metadata": {},
   "outputs": [
    {
     "data": {
      "text/plain": [
       "('ace', {'nucleus': '1', 'onset': '', 'coda': 's'})"
      ]
     },
     "execution_count": 6,
     "metadata": {},
     "output_type": "execute_result"
    }
   ],
   "source": [
    "words = [(w[0], construct_syllable_structure(w[1])) for w in words if len(w[0]) >= MIN_LENGTH]\n",
    "words[0]"
   ]
  },
  {
   "cell_type": "code",
   "execution_count": 7,
   "metadata": {},
   "outputs": [
    {
     "data": {
      "text/plain": [
       "{'nucleus': '1', 'onset': '', 'coda': 's'}"
      ]
     },
     "execution_count": 7,
     "metadata": {},
     "output_type": "execute_result"
    }
   ],
   "source": [
    "roots_to_syllables = dict(words)\n",
    "roots_to_syllables['ace']"
   ]
  },
  {
   "cell_type": "code",
   "execution_count": 8,
   "metadata": {},
   "outputs": [
    {
     "name": "stdout",
     "output_type": "stream",
     "text": [
      "This resulted in an initial set of 2069 tokens.\n"
     ]
    }
   ],
   "source": [
    "N = len(roots_to_syllables)\n",
    "print(\"This resulted in an initial set of {num_tokens} tokens.\".format(num_tokens=N))"
   ]
  },
  {
   "cell_type": "markdown",
   "metadata": {},
   "source": [
    "## Loading the word2vec model and creating our dataset"
   ]
  },
  {
   "cell_type": "code",
   "execution_count": 9,
   "metadata": {},
   "outputs": [],
   "source": [
    "if LOAD_NEW_MODEL:\n",
    "    model = gensim.models.KeyedVectors.load_word2vec_format(MODEL_PATH, binary=True)"
   ]
  },
  {
   "cell_type": "code",
   "execution_count": 10,
   "metadata": {},
   "outputs": [],
   "source": [
    "def create_dataset(roots_to_syllables, model, syllable_component='nucleus'):\n",
    "    \"\"\"Return mappings from vectors to specified syllable component (e.g. 'nucleus').\"\"\"\n",
    "    X, y, words = [], [], []\n",
    "    for root, syllable in roots_to_syllables.items():\n",
    "        if root in model:\n",
    "            syl = syllable[syllable_component]\n",
    "            if syl != '':\n",
    "                X.append(model[root])\n",
    "                y.append(syl)\n",
    "                words.append(root)\n",
    "    return np.array(X), np.array(y), words"
   ]
  },
  {
   "cell_type": "markdown",
   "metadata": {},
   "source": [
    "### Saving data so we don't have to load word2vec each time"
   ]
  },
  {
   "cell_type": "code",
   "execution_count": 18,
   "metadata": {},
   "outputs": [
    {
     "ename": "TypeError",
     "evalue": "Object of type 'ndarray' is not JSON serializable",
     "output_type": "error",
     "traceback": [
      "\u001b[0;31m---------------------------------------------------------------------------\u001b[0m",
      "\u001b[0;31mTypeError\u001b[0m                                 Traceback (most recent call last)",
      "\u001b[0;32m<ipython-input-18-932099d41c2e>\u001b[0m in \u001b[0;36m<module>\u001b[0;34m()\u001b[0m\n\u001b[1;32m      8\u001b[0m             'nucleus': {'X': X_nucleus, 'y': y_nucleus, 'words': words_nucleus}}\n\u001b[1;32m      9\u001b[0m     \u001b[0;32mwith\u001b[0m \u001b[0mopen\u001b[0m\u001b[0;34m(\u001b[0m\u001b[0;34m'data/processed/data.json'\u001b[0m\u001b[0;34m,\u001b[0m \u001b[0;34m'w'\u001b[0m\u001b[0;34m)\u001b[0m \u001b[0;32mas\u001b[0m \u001b[0moutfile\u001b[0m\u001b[0;34m:\u001b[0m\u001b[0;34m\u001b[0m\u001b[0m\n\u001b[0;32m---> 10\u001b[0;31m         \u001b[0mjson\u001b[0m\u001b[0;34m.\u001b[0m\u001b[0mdump\u001b[0m\u001b[0;34m(\u001b[0m\u001b[0mdata\u001b[0m\u001b[0;34m,\u001b[0m \u001b[0moutfile\u001b[0m\u001b[0;34m)\u001b[0m\u001b[0;34m\u001b[0m\u001b[0m\n\u001b[0m\u001b[1;32m     11\u001b[0m \u001b[0;34m\u001b[0m\u001b[0m\n",
      "\u001b[0;32m~/anaconda3/lib/python3.6/json/__init__.py\u001b[0m in \u001b[0;36mdump\u001b[0;34m(obj, fp, skipkeys, ensure_ascii, check_circular, allow_nan, cls, indent, separators, default, sort_keys, **kw)\u001b[0m\n\u001b[1;32m    177\u001b[0m     \u001b[0;31m# could accelerate with writelines in some versions of Python, at\u001b[0m\u001b[0;34m\u001b[0m\u001b[0;34m\u001b[0m\u001b[0m\n\u001b[1;32m    178\u001b[0m     \u001b[0;31m# a debuggability cost\u001b[0m\u001b[0;34m\u001b[0m\u001b[0;34m\u001b[0m\u001b[0m\n\u001b[0;32m--> 179\u001b[0;31m     \u001b[0;32mfor\u001b[0m \u001b[0mchunk\u001b[0m \u001b[0;32min\u001b[0m \u001b[0miterable\u001b[0m\u001b[0;34m:\u001b[0m\u001b[0;34m\u001b[0m\u001b[0m\n\u001b[0m\u001b[1;32m    180\u001b[0m         \u001b[0mfp\u001b[0m\u001b[0;34m.\u001b[0m\u001b[0mwrite\u001b[0m\u001b[0;34m(\u001b[0m\u001b[0mchunk\u001b[0m\u001b[0;34m)\u001b[0m\u001b[0;34m\u001b[0m\u001b[0m\n\u001b[1;32m    181\u001b[0m \u001b[0;34m\u001b[0m\u001b[0m\n",
      "\u001b[0;32m~/anaconda3/lib/python3.6/json/encoder.py\u001b[0m in \u001b[0;36m_iterencode\u001b[0;34m(o, _current_indent_level)\u001b[0m\n\u001b[1;32m    428\u001b[0m             \u001b[0;32myield\u001b[0m \u001b[0;32mfrom\u001b[0m \u001b[0m_iterencode_list\u001b[0m\u001b[0;34m(\u001b[0m\u001b[0mo\u001b[0m\u001b[0;34m,\u001b[0m \u001b[0m_current_indent_level\u001b[0m\u001b[0;34m)\u001b[0m\u001b[0;34m\u001b[0m\u001b[0m\n\u001b[1;32m    429\u001b[0m         \u001b[0;32melif\u001b[0m \u001b[0misinstance\u001b[0m\u001b[0;34m(\u001b[0m\u001b[0mo\u001b[0m\u001b[0;34m,\u001b[0m \u001b[0mdict\u001b[0m\u001b[0;34m)\u001b[0m\u001b[0;34m:\u001b[0m\u001b[0;34m\u001b[0m\u001b[0m\n\u001b[0;32m--> 430\u001b[0;31m             \u001b[0;32myield\u001b[0m \u001b[0;32mfrom\u001b[0m \u001b[0m_iterencode_dict\u001b[0m\u001b[0;34m(\u001b[0m\u001b[0mo\u001b[0m\u001b[0;34m,\u001b[0m \u001b[0m_current_indent_level\u001b[0m\u001b[0;34m)\u001b[0m\u001b[0;34m\u001b[0m\u001b[0m\n\u001b[0m\u001b[1;32m    431\u001b[0m         \u001b[0;32melse\u001b[0m\u001b[0;34m:\u001b[0m\u001b[0;34m\u001b[0m\u001b[0m\n\u001b[1;32m    432\u001b[0m             \u001b[0;32mif\u001b[0m \u001b[0mmarkers\u001b[0m \u001b[0;32mis\u001b[0m \u001b[0;32mnot\u001b[0m \u001b[0;32mNone\u001b[0m\u001b[0;34m:\u001b[0m\u001b[0;34m\u001b[0m\u001b[0m\n",
      "\u001b[0;32m~/anaconda3/lib/python3.6/json/encoder.py\u001b[0m in \u001b[0;36m_iterencode_dict\u001b[0;34m(dct, _current_indent_level)\u001b[0m\n\u001b[1;32m    402\u001b[0m                 \u001b[0;32melse\u001b[0m\u001b[0;34m:\u001b[0m\u001b[0;34m\u001b[0m\u001b[0m\n\u001b[1;32m    403\u001b[0m                     \u001b[0mchunks\u001b[0m \u001b[0;34m=\u001b[0m \u001b[0m_iterencode\u001b[0m\u001b[0;34m(\u001b[0m\u001b[0mvalue\u001b[0m\u001b[0;34m,\u001b[0m \u001b[0m_current_indent_level\u001b[0m\u001b[0;34m)\u001b[0m\u001b[0;34m\u001b[0m\u001b[0m\n\u001b[0;32m--> 404\u001b[0;31m                 \u001b[0;32myield\u001b[0m \u001b[0;32mfrom\u001b[0m \u001b[0mchunks\u001b[0m\u001b[0;34m\u001b[0m\u001b[0m\n\u001b[0m\u001b[1;32m    405\u001b[0m         \u001b[0;32mif\u001b[0m \u001b[0mnewline_indent\u001b[0m \u001b[0;32mis\u001b[0m \u001b[0;32mnot\u001b[0m \u001b[0;32mNone\u001b[0m\u001b[0;34m:\u001b[0m\u001b[0;34m\u001b[0m\u001b[0m\n\u001b[1;32m    406\u001b[0m             \u001b[0m_current_indent_level\u001b[0m \u001b[0;34m-=\u001b[0m \u001b[0;36m1\u001b[0m\u001b[0;34m\u001b[0m\u001b[0m\n",
      "\u001b[0;32m~/anaconda3/lib/python3.6/json/encoder.py\u001b[0m in \u001b[0;36m_iterencode_dict\u001b[0;34m(dct, _current_indent_level)\u001b[0m\n\u001b[1;32m    402\u001b[0m                 \u001b[0;32melse\u001b[0m\u001b[0;34m:\u001b[0m\u001b[0;34m\u001b[0m\u001b[0m\n\u001b[1;32m    403\u001b[0m                     \u001b[0mchunks\u001b[0m \u001b[0;34m=\u001b[0m \u001b[0m_iterencode\u001b[0m\u001b[0;34m(\u001b[0m\u001b[0mvalue\u001b[0m\u001b[0;34m,\u001b[0m \u001b[0m_current_indent_level\u001b[0m\u001b[0;34m)\u001b[0m\u001b[0;34m\u001b[0m\u001b[0m\n\u001b[0;32m--> 404\u001b[0;31m                 \u001b[0;32myield\u001b[0m \u001b[0;32mfrom\u001b[0m \u001b[0mchunks\u001b[0m\u001b[0;34m\u001b[0m\u001b[0m\n\u001b[0m\u001b[1;32m    405\u001b[0m         \u001b[0;32mif\u001b[0m \u001b[0mnewline_indent\u001b[0m \u001b[0;32mis\u001b[0m \u001b[0;32mnot\u001b[0m \u001b[0;32mNone\u001b[0m\u001b[0;34m:\u001b[0m\u001b[0;34m\u001b[0m\u001b[0m\n\u001b[1;32m    406\u001b[0m             \u001b[0m_current_indent_level\u001b[0m \u001b[0;34m-=\u001b[0m \u001b[0;36m1\u001b[0m\u001b[0;34m\u001b[0m\u001b[0m\n",
      "\u001b[0;32m~/anaconda3/lib/python3.6/json/encoder.py\u001b[0m in \u001b[0;36m_iterencode\u001b[0;34m(o, _current_indent_level)\u001b[0m\n\u001b[1;32m    435\u001b[0m                     \u001b[0;32mraise\u001b[0m \u001b[0mValueError\u001b[0m\u001b[0;34m(\u001b[0m\u001b[0;34m\"Circular reference detected\"\u001b[0m\u001b[0;34m)\u001b[0m\u001b[0;34m\u001b[0m\u001b[0m\n\u001b[1;32m    436\u001b[0m                 \u001b[0mmarkers\u001b[0m\u001b[0;34m[\u001b[0m\u001b[0mmarkerid\u001b[0m\u001b[0;34m]\u001b[0m \u001b[0;34m=\u001b[0m \u001b[0mo\u001b[0m\u001b[0;34m\u001b[0m\u001b[0m\n\u001b[0;32m--> 437\u001b[0;31m             \u001b[0mo\u001b[0m \u001b[0;34m=\u001b[0m \u001b[0m_default\u001b[0m\u001b[0;34m(\u001b[0m\u001b[0mo\u001b[0m\u001b[0;34m)\u001b[0m\u001b[0;34m\u001b[0m\u001b[0m\n\u001b[0m\u001b[1;32m    438\u001b[0m             \u001b[0;32myield\u001b[0m \u001b[0;32mfrom\u001b[0m \u001b[0m_iterencode\u001b[0m\u001b[0;34m(\u001b[0m\u001b[0mo\u001b[0m\u001b[0;34m,\u001b[0m \u001b[0m_current_indent_level\u001b[0m\u001b[0;34m)\u001b[0m\u001b[0;34m\u001b[0m\u001b[0m\n\u001b[1;32m    439\u001b[0m             \u001b[0;32mif\u001b[0m \u001b[0mmarkers\u001b[0m \u001b[0;32mis\u001b[0m \u001b[0;32mnot\u001b[0m \u001b[0;32mNone\u001b[0m\u001b[0;34m:\u001b[0m\u001b[0;34m\u001b[0m\u001b[0m\n",
      "\u001b[0;32m~/anaconda3/lib/python3.6/json/encoder.py\u001b[0m in \u001b[0;36mdefault\u001b[0;34m(self, o)\u001b[0m\n\u001b[1;32m    178\u001b[0m         \"\"\"\n\u001b[1;32m    179\u001b[0m         raise TypeError(\"Object of type '%s' is not JSON serializable\" %\n\u001b[0;32m--> 180\u001b[0;31m                         o.__class__.__name__)\n\u001b[0m\u001b[1;32m    181\u001b[0m \u001b[0;34m\u001b[0m\u001b[0m\n\u001b[1;32m    182\u001b[0m     \u001b[0;32mdef\u001b[0m \u001b[0mencode\u001b[0m\u001b[0;34m(\u001b[0m\u001b[0mself\u001b[0m\u001b[0;34m,\u001b[0m \u001b[0mo\u001b[0m\u001b[0;34m)\u001b[0m\u001b[0;34m:\u001b[0m\u001b[0;34m\u001b[0m\u001b[0m\n",
      "\u001b[0;31mTypeError\u001b[0m: Object of type 'ndarray' is not JSON serializable"
     ]
    }
   ],
   "source": [
    "import json\n",
    "if LOAD_NEW_MODEL is False:\n",
    "    X_onset, y_onset, words_onset = create_dataset(roots_to_syllables, model, 'onset')\n",
    "    X_coda, y_coda, words_coda = create_dataset(roots_to_syllables, model, 'coda')\n",
    "    X_nucleus, y_nucleus, words_nucleus = create_dataset(roots_to_syllables, model, 'nucleus')\n",
    "    data = {'onset': {'X': X_onset, 'y': y_onset, 'words': words_onset},\n",
    "            'coda': {'X': X_coda, 'y': y_coda, 'words': words_coda},\n",
    "            'nucleus': {'X': X_nucleus, 'y': y_nucleus, 'words': words_nucleus}}\n",
    "    with open('data/processed/data.json', 'w') as outfile:\n",
    "        json.dump(data, outfile)\n",
    "    "
   ]
  },
  {
   "cell_type": "code",
   "execution_count": 14,
   "metadata": {},
   "outputs": [
    {
     "data": {
      "text/plain": [
       "array([[-0.07910156,  0.00222778, -0.00188446, ..., -0.23144531,\n",
       "        -0.04003906,  0.27148438],\n",
       "       [ 0.15429688, -0.24316406, -0.0255127 , ..., -0.328125  ,\n",
       "        -0.23144531,  0.05200195],\n",
       "       [ 0.07470703,  0.01635742,  0.08789062, ..., -0.0456543 ,\n",
       "         0.01385498, -0.08398438],\n",
       "       ...,\n",
       "       [-0.07421875, -0.10205078,  0.20117188, ..., -0.25390625,\n",
       "         0.06054688, -0.21289062],\n",
       "       [-0.04248047,  0.16015625, -0.2265625 , ...,  0.18945312,\n",
       "        -0.00692749,  0.1328125 ],\n",
       "       [ 0.18554688,  0.16894531,  0.00267029, ..., -0.33007812,\n",
       "         0.05004883, -0.21191406]], dtype=float32)"
      ]
     },
     "execution_count": 14,
     "metadata": {},
     "output_type": "execute_result"
    }
   ],
   "source": []
  },
  {
   "cell_type": "markdown",
   "metadata": {},
   "source": [
    "## Training and testing our classifier"
   ]
  },
  {
   "cell_type": "code",
   "execution_count": 14,
   "metadata": {},
   "outputs": [],
   "source": [
    "from sklearn import metrics\n",
    "from sklearn.decomposition import PCA\n",
    "from sklearn.model_selection import KFold\n",
    "from sklearn.svm import LinearSVC"
   ]
  },
  {
   "cell_type": "markdown",
   "metadata": {},
   "source": [
    "### Helper functions"
   ]
  },
  {
   "cell_type": "code",
   "execution_count": 15,
   "metadata": {},
   "outputs": [],
   "source": [
    "NUM_PERMUTATIONS = 100\n",
    "\n",
    "def get_model_metrics(y_true, y_pred):\n",
    "    \"\"\"Return a dictionary of relevant model metrics.\n",
    "\n",
    "    Parameters\n",
    "    ----------\n",
    "    y_true: numpy.array\n",
    "      array of actual y values\n",
    "    y_pred: numpy.array\n",
    "      array of predicted y values\n",
    "\n",
    "    Returns\n",
    "    -------\n",
    "    dict\n",
    "      dictionary including F1 score, precision, recall\n",
    "    \"\"\"\n",
    "    return {'f1': metrics.f1_score(y_true=y_true, y_pred=y_pred, average='weighted'),\n",
    "            'recall': metrics.recall_score(y_true=y_true, y_pred=y_pred, average='weighted'),\n",
    "            'precision': metrics.precision_score(y_true=y_true, y_pred=y_pred, average='weighted'),\n",
    "            'accuracy': metrics.accuracy_score(y_true=y_true, y_pred=y_pred)}\n",
    "\n",
    "def evaluate_classifier_with_cv(X, y, n_folds, clf, shuffled=False):\n",
    "    \"\"\"Run cross-validation with parameters.\"\"\"\n",
    "    model_performance = []\n",
    "    kfolds = KFold(n_splits=n_folds, shuffle=True)\n",
    "    for fold, (train_index, validation_index) in enumerate(kfolds.split(X)):\n",
    "        X_train, X_valid = X[train_index], X[validation_index]\n",
    "        y_train, y_valid = y[train_index], y[validation_index]\n",
    "        clf.fit(X=X_train, y=y_train)\n",
    "        # Make model predictions\n",
    "        y_pred_train = clf.predict(X=X_train)\n",
    "        y_pred_valid = clf.predict(X=X_valid)\n",
    "        # Evaluate model\n",
    "        training_metrics = get_model_metrics(y_train, y_pred_train)\n",
    "        validation_metrics = get_model_metrics(y_valid, y_pred_valid)\n",
    "        model_performance.append({\n",
    "            'recall_train': training_metrics['recall'],\n",
    "            'recall_valid': validation_metrics['recall'],\n",
    "            'precision_train': training_metrics['precision'],\n",
    "            'precision_valid': validation_metrics['precision'],\n",
    "            'f1_train': training_metrics['f1'],\n",
    "            'f1_valid': validation_metrics['f1'],\n",
    "            'accuracy_train': training_metrics['accuracy'],\n",
    "            'accuracy_valid': validation_metrics['accuracy'],\n",
    "            'fold': fold,\n",
    "            'shuffled': shuffled\n",
    "        })\n",
    "    df_model_performance = pd.DataFrame.from_dict(model_performance)\n",
    "    return df_model_performance\n",
    "\n",
    "def permutation_test(X, y, clf, n=100):\n",
    "    \"\"\"Get estimate of model accuracy on randomly shuffled data.\"\"\"\n",
    "    performances = []\n",
    "    for shuffle in range(n):\n",
    "        if shuffle % 10 == 0:\n",
    "            print(\"{pct}% done...\".format(pct=round(shuffle/n, 2)*100))\n",
    "        y_shuffle = np.random.permutation(y)\n",
    "        df_performance = evaluate_classifier_with_cv(\n",
    "            X, y_shuffle, n_folds=2, clf=clf, shuffled=True)\n",
    "        performances.append(df_performance)\n",
    "    shuffle_performance = pd.concat(performances)\n",
    "    return shuffle_performance"
   ]
  },
  {
   "cell_type": "markdown",
   "metadata": {},
   "source": [
    "### Training and evaluation for each syllable component"
   ]
  },
  {
   "cell_type": "markdown",
   "metadata": {},
   "source": [
    "For each syllable component, we want to know whether a classifier can learn to predict **phonetic form** from **word embeddings**. We will evaluate our classifier using two-fold cross-validation, and extract the F1-scores on the validation sets. \n",
    "\n",
    "We will then compare these to the F1-scores on the validation sets for randomly shuffled labels, as an estimate of the *null distribution*.\n",
    "\n",
    "To speed things up, we will reduce the dimensionality of the word vectors."
   ]
  },
  {
   "cell_type": "code",
   "execution_count": 16,
   "metadata": {},
   "outputs": [
    {
     "name": "stdout",
     "output_type": "stream",
     "text": [
      "Finding systematicity in onset component...\n",
      "Using 1933 words\n"
     ]
    },
    {
     "name": "stderr",
     "output_type": "stream",
     "text": [
      "/Users/strott/anaconda3/lib/python3.6/site-packages/sklearn/metrics/classification.py:1135: UndefinedMetricWarning: F-score is ill-defined and being set to 0.0 in labels with no predicted samples.\n",
      "  'precision', 'predicted', average, warn_for)\n",
      "/Users/strott/anaconda3/lib/python3.6/site-packages/sklearn/metrics/classification.py:1135: UndefinedMetricWarning: Precision is ill-defined and being set to 0.0 in labels with no predicted samples.\n",
      "  'precision', 'predicted', average, warn_for)\n",
      "/Users/strott/anaconda3/lib/python3.6/site-packages/sklearn/metrics/classification.py:1137: UndefinedMetricWarning: F-score is ill-defined and being set to 0.0 in labels with no true samples.\n",
      "  'recall', 'true', average, warn_for)\n",
      "/Users/strott/anaconda3/lib/python3.6/site-packages/sklearn/metrics/classification.py:1137: UndefinedMetricWarning: Recall is ill-defined and being set to 0.0 in labels with no true samples.\n",
      "  'recall', 'true', average, warn_for)\n"
     ]
    },
    {
     "name": "stdout",
     "output_type": "stream",
     "text": [
      "0.0% done...\n",
      "10.0% done...\n",
      "20.0% done...\n",
      "30.0% done...\n",
      "40.0% done...\n",
      "50.0% done...\n",
      "60.0% done...\n",
      "70.0% done...\n",
      "80.0% done...\n",
      "90.0% done...\n",
      "Finding systematicity in nucleus component...\n",
      "Using 2021 words\n",
      "0.0% done...\n",
      "10.0% done...\n",
      "20.0% done...\n",
      "30.0% done...\n",
      "40.0% done...\n",
      "50.0% done...\n",
      "60.0% done...\n",
      "70.0% done...\n",
      "80.0% done...\n",
      "90.0% done...\n",
      "Finding systematicity in coda component...\n",
      "Using 1790 words\n",
      "0.0% done...\n",
      "10.0% done...\n",
      "20.0% done...\n",
      "30.0% done...\n",
      "40.0% done...\n",
      "50.0% done...\n",
      "60.0% done...\n",
      "70.0% done...\n",
      "80.0% done...\n",
      "90.0% done...\n"
     ]
    }
   ],
   "source": [
    "num_tokens = []\n",
    "components = []\n",
    "for syllable_component in ['onset', 'nucleus', 'coda']:\n",
    "    print(\"Finding systematicity in {syl} component...\".format(syl=syllable_component))\n",
    "    X, y, words = create_dataset(roots_to_syllables, model, syllable_component)\n",
    "    N = len(words)\n",
    "    print(\"Using {num} words\".format(num=N))\n",
    "    num_tokens.append(N)\n",
    "    pca = PCA(n_components=20)\n",
    "    X_reduced = pca.fit_transform(X)\n",
    "    clf = LinearSVC()\n",
    "    df_performance = evaluate_classifier_with_cv(\n",
    "        X_reduced, y, n_folds=2, clf=clf, shuffled=False)\n",
    "    permuted = permutation_test(X_reduced, y, clf, NUM_PERMUTATIONS)\n",
    "    df = pd.concat([df_performance, permuted])\n",
    "    df['component'] = [syllable_component for _ in range(len(df))]\n",
    "    components.append(df)"
   ]
  },
  {
   "cell_type": "code",
   "execution_count": 17,
   "metadata": {},
   "outputs": [],
   "source": [
    "df_all = pd.concat(components)"
   ]
  },
  {
   "cell_type": "markdown",
   "metadata": {},
   "source": [
    "## Evaluation of systematicity for each syllable component"
   ]
  },
  {
   "cell_type": "code",
   "execution_count": 26,
   "metadata": {},
   "outputs": [],
   "source": [
    "import matplotlib.pyplot as plt"
   ]
  },
  {
   "cell_type": "markdown",
   "metadata": {},
   "source": [
    "### Onsets"
   ]
  },
  {
   "cell_type": "code",
   "execution_count": 19,
   "metadata": {},
   "outputs": [],
   "source": [
    "df_onsets = df_all[df_all['component']==\"onset\"]"
   ]
  },
  {
   "cell_type": "code",
   "execution_count": 42,
   "metadata": {},
   "outputs": [
    {
     "name": "stdout",
     "output_type": "stream",
     "text": [
      "The mean F1 score for the true distribution is 0.047.\n"
     ]
    }
   ],
   "source": [
    "mean_f1_valid = df_onsets[df_onsets['shuffled']==False]['f1_valid'].mean()\n",
    "print(\"The mean F1 score for the true distribution is {f1}.\".format(f1=round(mean_f1_valid, 3)))"
   ]
  },
  {
   "cell_type": "markdown",
   "metadata": {},
   "source": [
    "Below, we see that the mean F1 score for the true distribution (dotted line) is higher than the majority of the F1 scores for the randomly permuted distributions."
   ]
  },
  {
   "cell_type": "code",
   "execution_count": 43,
   "metadata": {
    "scrolled": true
   },
   "outputs": [
    {
     "data": {
      "image/png": "[encoded data removed]",
      "text/plain": [
       "<Figure size 432x288 with 1 Axes>"
      ]
     },
     "metadata": {},
     "output_type": "display_data"
    }
   ],
   "source": [
    "df_onsets[df_onsets['shuffled']==True].hist(column='f1_valid')\n",
    "plt.axvline(x=mean_f1_valid, linestyle=\"dotted\")\n",
    "plt.title(\"Distribution of F1 scores\")\n",
    "plt.xlabel(\"F1 scores\")\n",
    "plt.ylabel(\"Count\")\n",
    "plt.show()"
   ]
  },
  {
   "cell_type": "markdown",
   "metadata": {},
   "source": [
    "### Nuclei"
   ]
  },
  {
   "cell_type": "code",
   "execution_count": 45,
   "metadata": {},
   "outputs": [],
   "source": [
    "df_nucleus = df_all[df_all['component']==\"nucleus\"]"
   ]
  },
  {
   "cell_type": "code",
   "execution_count": 46,
   "metadata": {},
   "outputs": [
    {
     "name": "stdout",
     "output_type": "stream",
     "text": [
      "The mean F1 score for the true distribution is 0.131.\n"
     ]
    }
   ],
   "source": [
    "mean_f1_valid = df_nucleus[df_nucleus['shuffled']==False]['f1_valid'].mean()\n",
    "print(\"The mean F1 score for the true distribution is {f1}.\".format(f1=round(mean_f1_valid, 3)))"
   ]
  },
  {
   "cell_type": "markdown",
   "metadata": {},
   "source": [
    "Below, we see that the mean F1 score for the true distribution (dotted line) is higher than the majority of the F1 scores for the randomly permuted distributions."
   ]
  },
  {
   "cell_type": "code",
   "execution_count": 47,
   "metadata": {
    "scrolled": true
   },
   "outputs": [
    {
     "data": {
      "image/png": "[encoded data removed]",
      "text/plain": [
       "<Figure size 432x288 with 1 Axes>"
      ]
     },
     "metadata": {},
     "output_type": "display_data"
    }
   ],
   "source": [
    "df_nucleus[df_nucleus['shuffled']==True].hist(column='f1_valid')\n",
    "plt.axvline(x=mean_f1_valid, linestyle=\"dotted\")\n",
    "plt.title(\"Distribution of F1 scores\")\n",
    "plt.xlabel(\"F1 scores\")\n",
    "plt.ylabel(\"Count\")\n",
    "plt.show()"
   ]
  },
  {
   "cell_type": "markdown",
   "metadata": {},
   "source": [
    "### Coda"
   ]
  },
  {
   "cell_type": "code",
   "execution_count": 48,
   "metadata": {},
   "outputs": [],
   "source": [
    "df_coda = df_all[df_all['component']==\"coda\"]"
   ]
  },
  {
   "cell_type": "code",
   "execution_count": 49,
   "metadata": {},
   "outputs": [
    {
     "name": "stdout",
     "output_type": "stream",
     "text": [
      "The mean F1 score for the true distribution is 0.085.\n"
     ]
    }
   ],
   "source": [
    "mean_f1_valid = df_coda[df_coda['shuffled']==False]['f1_valid'].mean()\n",
    "print(\"The mean F1 score for the true distribution is {f1}.\".format(f1=round(mean_f1_valid, 3)))"
   ]
  },
  {
   "cell_type": "markdown",
   "metadata": {},
   "source": [
    "Below, we see that the mean F1 score for the true distribution (dotted line) is higher than the majority of the F1 scores for the randomly permuted distributions."
   ]
  },
  {
   "cell_type": "code",
   "execution_count": 50,
   "metadata": {
    "scrolled": true
   },
   "outputs": [
    {
     "data": {
      "image/png": "[encoded data removed]",
      "text/plain": [
       "<Figure size 432x288 with 1 Axes>"
      ]
     },
     "metadata": {},
     "output_type": "display_data"
    }
   ],
   "source": [
    "df_coda[df_coda['shuffled']==True].hist(column='f1_valid')\n",
    "plt.axvline(x=mean_f1_valid, linestyle=\"dotted\")\n",
    "plt.title(\"Distribution of F1 scores\")\n",
    "plt.xlabel(\"F1 scores\")\n",
    "plt.ylabel(\"Count\")\n",
    "plt.show()"
   ]
  },
  {
   "cell_type": "code",
   "execution_count": null,
   "metadata": {},
   "outputs": [],
   "source": []
  }
 ],
 "metadata": {
  "anaconda-cloud": {},
  "kernelspec": {
   "display_name": "Python 3",
   "language": "python",
   "name": "python3"
  },
  "language_info": {
   "codemirror_mode": {
    "name": "ipython",
    "version": 3
   },
   "file_extension": ".py",
   "mimetype": "text/x-python",
   "name": "python",
   "nbconvert_exporter": "python",
   "pygments_lexer": "ipython3",
   "version": "3.6.5"
  }
 },
 "nbformat": 4,
 "nbformat_minor": 2
}
